{
 "cells": [
  {
   "cell_type": "code",
   "execution_count": 3,
   "metadata": {
    "id": "k_bnEyF4ABXJ"
   },
   "outputs": [],
   "source": [
    "from nltk.stem import PorterStemmer\n",
    "from sklearn.feature_extraction.text import TfidfVectorizer\n",
    "from sklearn.model_selection import train_test_split\n",
    "import pickle\n",
    "from sklearn.linear_model import LogisticRegressionCV\n",
    "import re\n",
    "import pandas as pd\n",
    "import warnings\n",
    "warnings.filterwarnings('ignore')"
   ]
  },
  {
   "cell_type": "code",
   "execution_count": 4,
   "metadata": {
    "id": "0QSZjNSCAHYH"
   },
   "outputs": [],
   "source": [
    "df = pd.read_csv('covid_fake.csv')"
   ]
  },
  {
   "cell_type": "code",
   "execution_count": 3,
   "metadata": {
    "colab": {
     "base_uri": "https://localhost:8080/",
     "height": 206
    },
    "id": "zSXlwgjeANgo",
    "outputId": "05309d8a-e50e-496f-fa59-c25e84292e70"
   },
   "outputs": [
    {
     "data": {
      "application/vnd.google.colaboratory.intrinsic+json": {
       "summary": "{\n  \"name\": \"df\",\n  \"rows\": 1164,\n  \"fields\": [\n    {\n      \"column\": \"title\",\n      \"properties\": {\n        \"dtype\": \"string\",\n        \"num_unique_values\": 973,\n        \"samples\": [\n          \"No vaccine, no job: Eugenicist Bill Gates demands \\u201cdigital certificates\\u201d to prove coronavirus vaccination status\",\n          \"With children, keep calm, carry on and get the flu shot\",\n          \"What You Need to Know About the Coronavirus\"\n        ],\n        \"semantic_type\": \"\",\n        \"description\": \"\"\n      }\n    },\n    {\n      \"column\": \"text\",\n      \"properties\": {\n        \"dtype\": \"string\",\n        \"num_unique_values\": 1114,\n        \"samples\": [\n          \"While initial investigations suggest the virus may be present in faeces in some cases, to date, there have not been reports of faecal-oral transmission of COVID-19. Additionally, there is no evidence to date on the survival of the COVID-19 virus in water or sewage.WHO is assessing ongoing research on the ways COVID-19 is spread and will continue to share new findings on this topic.\",\n          \"The medical community strongly advises the population to get a flu shot to help combat the epidemic of this coronavirus. Honestly, I never made any sense to me. It is two different types of viruses. So not now the flu shot works for all viruses? Concerningly, the latest research shows that getting the flu vaccine increases the risk of getting the coronavirus by 36%!!! Here\\u2019s the first link: \\u201cInfluenza Vaccination and Respiratory Virus Interference Among Department of Defense Personnel During the 2017-2018 Influenza Season. \\u201cFlu Vaccine Increases Coronavirus Risk 36% Says Military Study\\u201d. \\u201cExamining non-influenza viruses specifically, the odds of both coronavirus and human metapneumovirus in vaccinated individuals were significantly higher when compared to unvaccinated individuals (OR = 1.36 and 1.51, respectively) (Table 5).\\u201d Paraphrasing, the study highlights the value of the human body\\u2019s ability to fight against viruses. Apparently, by contracting influenza, the body naturally \\u201cmay reduce the risk of non-influenza respiratory viruses\\u2026\\u201d \\u201cWhile influenza vaccination offers protection against influenza, natural influenza infection may reduce the risk of non-influenza respiratory viruses by providing temporary, non-specific immunity against these viruses. On the other hand, recently published studies have described the phenomenon of vaccine-associated virus interference; that is, vaccinated individuals may be at increased risk for other respiratory viruses because they do not receive the non-specific immunity associated with natural infection.\\u201d Like I blogged about before, the flu shot is known to actually suppress your immune system.\",\n          \"A new report, sent to the White House science adviser, says the country should not rely on warm weather to stop contagion.The homebound and virus-wary across the Northern Hemisphere, from President Trump to cooped-up schoolchildren, have clung to the possibility that the coronavirus pandemic will fade in hot weather, as some viral diseases do.But the National Academies of Sciences, Engineering and Medicine, in a public report sent to the White House, has said, in effect: Don\\u2019t get your hopes up. After reviewing a variety of research reports, a panel concluded that the studies, of varying quality of evidence, do not offer a basis to believe that summer weather will interfere with the spread of the coronavirus.The pandemic may lessen because of social distancing and other measures, but the evidence so far does not inspire confidence in the benefits of sun and humidity.  The report, sent to Kelvin Droegemeier, director of the Office of Science and Technology Policy at the White House and acting director of the National Science Foundation, was a brief nine-page communication known as a rapid expert consultation.Kristian Andersen, an immunologist at the Scripps Research Translational Institute in California and a member of the Standing Committee on Emerging Infectious Diseases and 21st Century Health Threats at the National Academies, said: \\u201cGiven current data, we believe that the pandemic likely will not diminish because of summer, and we should be careful not to base policies and strategies around the hope that it will.\\u201d\\u201cWe might very well see a reduction in spread in the beginning of the summer,\\u201d he added, \\u201cbut we have to be careful not to put that down to a changing climate \\u2014 it is plausible that such a reduction could be due to other measures put in place.\\u201dHuman behavior will be most important. Dr. David Relman, who studies host-microbe interactions at Stanford, said if a human coughs or sneezes enough virus \\u201cclose enough to the next susceptible person, then temperature and humidity just won\\u2019t matter that much.\\u201dThe report from the National Academies, independent agencies that advise the government and the public, cited a small number of well-controlled laboratory studies that show that high temperature and humidity can diminish the ability of the novel coronavirus to survive in the environment. But the report noted the studies had limitations that made them less than conclusive.It also noted that although some reports showed pandemic growth rates peaking in colder conditions, those studies were short and limited. A preliminary finding in one such study, by scientists at M.I.T., found fewer cases of Covid-19, the disease caused by the coronavirus, in warmer climates, but arrived at no definitive conclusion.\\u201cSpecially in the U.S., any effect, even in the summer months, may not be highly visible, so our real chance to stop this virus is indeed through taking quarantine measures,\\u201d said Qasim Bukhari, a computational scientist at M.I.T. who is a co-author of the study.The report sent to the White House also struck a cautionary note: \\u201cGiven that countries currently in \\u2018summer\\u2019 climates, such as Australia and Iran, are experiencing rapid virus spread, a decrease in cases with increases in humidity and temperature elsewhere should not be assumed,\\u201d it said.Pandemics do not behave the same way seasonal outbreaks do. For the National Academies\\u2019 report, researchers looked at the history of flu pandemics as an example. \\u201cThere have been 10 influenza pandemics in the past 250-plus years \\u2014 two started in the Northern Hemisphere winter, three in the spring, two in the summer and three in the fall,\\u201d the report said. \\u201cAll had a peak second wave approximately six months after emergence of the virus in the human population, regardless of when the initial introduction occurred.\\u201dOn March 16, President Trump said the virus might \\u201cwash\\u201d through in warmer weather.\\nDr. Anthony S. Fauci, the nation\\u2019s leading expert on infectious diseases, has expressed different opinions about the effect of summer on the virus, some more optimistic than others. In a live-streamed interview on Wednesday, Dr. Howard Bauchner, the editor in chief of The Journal of the American Medical Association, asked him about the fall, which Dr. Fauci said would be very challenging, after a period this summer when \\u201cit\\u2019s almost certainly going to go down a bit.\\u201d\\nOn March 26, however, in a conversation on Instagram with Stephen Curry of the Golden State Warriors, Dr. Fauci said that although it wasn\\u2019t unreasonable to assume the summer weather could diminish the spread, \\u201cyou don\\u2019t want to count on it.\\u201d\"\n        ],\n        \"semantic_type\": \"\",\n        \"description\": \"\"\n      }\n    },\n    {\n      \"column\": \"source\",\n      \"properties\": {\n        \"dtype\": \"category\",\n        \"num_unique_values\": 269,\n        \"samples\": [\n          \"www.who.int\",\n          \"https://www.tierneyrealnewsnetwork.com/\",\n          \"https://www.forbes.com/\"\n        ],\n        \"semantic_type\": \"\",\n        \"description\": \"\"\n      }\n    },\n    {\n      \"column\": \"label\",\n      \"properties\": {\n        \"dtype\": \"category\",\n        \"num_unique_values\": 3,\n        \"samples\": [\n          \"Fake\",\n          \"TRUE\",\n          \"fake\"\n        ],\n        \"semantic_type\": \"\",\n        \"description\": \"\"\n      }\n    }\n  ]\n}",
       "type": "dataframe",
       "variable_name": "df"
      },
      "text/html": [
       "\n",
       "  <div id=\"df-cbc9ee45-38e8-4ebe-9afe-391bed28a4e2\" class=\"colab-df-container\">\n",
       "    <div>\n",
       "<style scoped>\n",
       "    .dataframe tbody tr th:only-of-type {\n",
       "        vertical-align: middle;\n",
       "    }\n",
       "\n",
       "    .dataframe tbody tr th {\n",
       "        vertical-align: top;\n",
       "    }\n",
       "\n",
       "    .dataframe thead th {\n",
       "        text-align: right;\n",
       "    }\n",
       "</style>\n",
       "<table border=\"1\" class=\"dataframe\">\n",
       "  <thead>\n",
       "    <tr style=\"text-align: right;\">\n",
       "      <th></th>\n",
       "      <th>title</th>\n",
       "      <th>text</th>\n",
       "      <th>source</th>\n",
       "      <th>label</th>\n",
       "    </tr>\n",
       "  </thead>\n",
       "  <tbody>\n",
       "    <tr>\n",
       "      <th>0</th>\n",
       "      <td>Due to the recent outbreak for the Coronavirus...</td>\n",
       "      <td>You just need to add water, and the drugs and ...</td>\n",
       "      <td>coronavirusmedicalkit.com</td>\n",
       "      <td>Fake</td>\n",
       "    </tr>\n",
       "    <tr>\n",
       "      <th>1</th>\n",
       "      <td>NaN</td>\n",
       "      <td>Hydroxychloroquine has been shown to have a 10...</td>\n",
       "      <td>RudyGiuliani</td>\n",
       "      <td>Fake</td>\n",
       "    </tr>\n",
       "    <tr>\n",
       "      <th>2</th>\n",
       "      <td>NaN</td>\n",
       "      <td>Fact: Hydroxychloroquine has been shown to hav...</td>\n",
       "      <td>CharlieKirk</td>\n",
       "      <td>Fake</td>\n",
       "    </tr>\n",
       "    <tr>\n",
       "      <th>3</th>\n",
       "      <td>NaN</td>\n",
       "      <td>The Corona virus is a man made virus created i...</td>\n",
       "      <td>JoanneWrightForCongress</td>\n",
       "      <td>Fake</td>\n",
       "    </tr>\n",
       "    <tr>\n",
       "      <th>4</th>\n",
       "      <td>NaN</td>\n",
       "      <td>Doesn’t @BillGates finance research at the Wuh...</td>\n",
       "      <td>JoanneWrightForCongress</td>\n",
       "      <td>Fake</td>\n",
       "    </tr>\n",
       "  </tbody>\n",
       "</table>\n",
       "</div>\n",
       "    <div class=\"colab-df-buttons\">\n",
       "\n",
       "  <div class=\"colab-df-container\">\n",
       "    <button class=\"colab-df-convert\" onclick=\"convertToInteractive('df-cbc9ee45-38e8-4ebe-9afe-391bed28a4e2')\"\n",
       "            title=\"Convert this dataframe to an interactive table.\"\n",
       "            style=\"display:none;\">\n",
       "\n",
       "  <svg xmlns=\"http://www.w3.org/2000/svg\" height=\"24px\" viewBox=\"0 -960 960 960\">\n",
       "    <path d=\"M120-120v-720h720v720H120Zm60-500h600v-160H180v160Zm220 220h160v-160H400v160Zm0 220h160v-160H400v160ZM180-400h160v-160H180v160Zm440 0h160v-160H620v160ZM180-180h160v-160H180v160Zm440 0h160v-160H620v160Z\"/>\n",
       "  </svg>\n",
       "    </button>\n",
       "\n",
       "  <style>\n",
       "    .colab-df-container {\n",
       "      display:flex;\n",
       "      gap: 12px;\n",
       "    }\n",
       "\n",
       "    .colab-df-convert {\n",
       "      background-color: #E8F0FE;\n",
       "      border: none;\n",
       "      border-radius: 50%;\n",
       "      cursor: pointer;\n",
       "      display: none;\n",
       "      fill: #1967D2;\n",
       "      height: 32px;\n",
       "      padding: 0 0 0 0;\n",
       "      width: 32px;\n",
       "    }\n",
       "\n",
       "    .colab-df-convert:hover {\n",
       "      background-color: #E2EBFA;\n",
       "      box-shadow: 0px 1px 2px rgba(60, 64, 67, 0.3), 0px 1px 3px 1px rgba(60, 64, 67, 0.15);\n",
       "      fill: #174EA6;\n",
       "    }\n",
       "\n",
       "    .colab-df-buttons div {\n",
       "      margin-bottom: 4px;\n",
       "    }\n",
       "\n",
       "    [theme=dark] .colab-df-convert {\n",
       "      background-color: #3B4455;\n",
       "      fill: #D2E3FC;\n",
       "    }\n",
       "\n",
       "    [theme=dark] .colab-df-convert:hover {\n",
       "      background-color: #434B5C;\n",
       "      box-shadow: 0px 1px 3px 1px rgba(0, 0, 0, 0.15);\n",
       "      filter: drop-shadow(0px 1px 2px rgba(0, 0, 0, 0.3));\n",
       "      fill: #FFFFFF;\n",
       "    }\n",
       "  </style>\n",
       "\n",
       "    <script>\n",
       "      const buttonEl =\n",
       "        document.querySelector('#df-cbc9ee45-38e8-4ebe-9afe-391bed28a4e2 button.colab-df-convert');\n",
       "      buttonEl.style.display =\n",
       "        google.colab.kernel.accessAllowed ? 'block' : 'none';\n",
       "\n",
       "      async function convertToInteractive(key) {\n",
       "        const element = document.querySelector('#df-cbc9ee45-38e8-4ebe-9afe-391bed28a4e2');\n",
       "        const dataTable =\n",
       "          await google.colab.kernel.invokeFunction('convertToInteractive',\n",
       "                                                    [key], {});\n",
       "        if (!dataTable) return;\n",
       "\n",
       "        const docLinkHtml = 'Like what you see? Visit the ' +\n",
       "          '<a target=\"_blank\" href=https://colab.research.google.com/notebooks/data_table.ipynb>data table notebook</a>'\n",
       "          + ' to learn more about interactive tables.';\n",
       "        element.innerHTML = '';\n",
       "        dataTable['output_type'] = 'display_data';\n",
       "        await google.colab.output.renderOutput(dataTable, element);\n",
       "        const docLink = document.createElement('div');\n",
       "        docLink.innerHTML = docLinkHtml;\n",
       "        element.appendChild(docLink);\n",
       "      }\n",
       "    </script>\n",
       "  </div>\n",
       "\n",
       "\n",
       "<div id=\"df-edff55f7-6d9a-458a-8b66-38e84fb7389a\">\n",
       "  <button class=\"colab-df-quickchart\" onclick=\"quickchart('df-edff55f7-6d9a-458a-8b66-38e84fb7389a')\"\n",
       "            title=\"Suggest charts\"\n",
       "            style=\"display:none;\">\n",
       "\n",
       "<svg xmlns=\"http://www.w3.org/2000/svg\" height=\"24px\"viewBox=\"0 0 24 24\"\n",
       "     width=\"24px\">\n",
       "    <g>\n",
       "        <path d=\"M19 3H5c-1.1 0-2 .9-2 2v14c0 1.1.9 2 2 2h14c1.1 0 2-.9 2-2V5c0-1.1-.9-2-2-2zM9 17H7v-7h2v7zm4 0h-2V7h2v10zm4 0h-2v-4h2v4z\"/>\n",
       "    </g>\n",
       "</svg>\n",
       "  </button>\n",
       "\n",
       "<style>\n",
       "  .colab-df-quickchart {\n",
       "      --bg-color: #E8F0FE;\n",
       "      --fill-color: #1967D2;\n",
       "      --hover-bg-color: #E2EBFA;\n",
       "      --hover-fill-color: #174EA6;\n",
       "      --disabled-fill-color: #AAA;\n",
       "      --disabled-bg-color: #DDD;\n",
       "  }\n",
       "\n",
       "  [theme=dark] .colab-df-quickchart {\n",
       "      --bg-color: #3B4455;\n",
       "      --fill-color: #D2E3FC;\n",
       "      --hover-bg-color: #434B5C;\n",
       "      --hover-fill-color: #FFFFFF;\n",
       "      --disabled-bg-color: #3B4455;\n",
       "      --disabled-fill-color: #666;\n",
       "  }\n",
       "\n",
       "  .colab-df-quickchart {\n",
       "    background-color: var(--bg-color);\n",
       "    border: none;\n",
       "    border-radius: 50%;\n",
       "    cursor: pointer;\n",
       "    display: none;\n",
       "    fill: var(--fill-color);\n",
       "    height: 32px;\n",
       "    padding: 0;\n",
       "    width: 32px;\n",
       "  }\n",
       "\n",
       "  .colab-df-quickchart:hover {\n",
       "    background-color: var(--hover-bg-color);\n",
       "    box-shadow: 0 1px 2px rgba(60, 64, 67, 0.3), 0 1px 3px 1px rgba(60, 64, 67, 0.15);\n",
       "    fill: var(--button-hover-fill-color);\n",
       "  }\n",
       "\n",
       "  .colab-df-quickchart-complete:disabled,\n",
       "  .colab-df-quickchart-complete:disabled:hover {\n",
       "    background-color: var(--disabled-bg-color);\n",
       "    fill: var(--disabled-fill-color);\n",
       "    box-shadow: none;\n",
       "  }\n",
       "\n",
       "  .colab-df-spinner {\n",
       "    border: 2px solid var(--fill-color);\n",
       "    border-color: transparent;\n",
       "    border-bottom-color: var(--fill-color);\n",
       "    animation:\n",
       "      spin 1s steps(1) infinite;\n",
       "  }\n",
       "\n",
       "  @keyframes spin {\n",
       "    0% {\n",
       "      border-color: transparent;\n",
       "      border-bottom-color: var(--fill-color);\n",
       "      border-left-color: var(--fill-color);\n",
       "    }\n",
       "    20% {\n",
       "      border-color: transparent;\n",
       "      border-left-color: var(--fill-color);\n",
       "      border-top-color: var(--fill-color);\n",
       "    }\n",
       "    30% {\n",
       "      border-color: transparent;\n",
       "      border-left-color: var(--fill-color);\n",
       "      border-top-color: var(--fill-color);\n",
       "      border-right-color: var(--fill-color);\n",
       "    }\n",
       "    40% {\n",
       "      border-color: transparent;\n",
       "      border-right-color: var(--fill-color);\n",
       "      border-top-color: var(--fill-color);\n",
       "    }\n",
       "    60% {\n",
       "      border-color: transparent;\n",
       "      border-right-color: var(--fill-color);\n",
       "    }\n",
       "    80% {\n",
       "      border-color: transparent;\n",
       "      border-right-color: var(--fill-color);\n",
       "      border-bottom-color: var(--fill-color);\n",
       "    }\n",
       "    90% {\n",
       "      border-color: transparent;\n",
       "      border-bottom-color: var(--fill-color);\n",
       "    }\n",
       "  }\n",
       "</style>\n",
       "\n",
       "  <script>\n",
       "    async function quickchart(key) {\n",
       "      const quickchartButtonEl =\n",
       "        document.querySelector('#' + key + ' button');\n",
       "      quickchartButtonEl.disabled = true;  // To prevent multiple clicks.\n",
       "      quickchartButtonEl.classList.add('colab-df-spinner');\n",
       "      try {\n",
       "        const charts = await google.colab.kernel.invokeFunction(\n",
       "            'suggestCharts', [key], {});\n",
       "      } catch (error) {\n",
       "        console.error('Error during call to suggestCharts:', error);\n",
       "      }\n",
       "      quickchartButtonEl.classList.remove('colab-df-spinner');\n",
       "      quickchartButtonEl.classList.add('colab-df-quickchart-complete');\n",
       "    }\n",
       "    (() => {\n",
       "      let quickchartButtonEl =\n",
       "        document.querySelector('#df-edff55f7-6d9a-458a-8b66-38e84fb7389a button');\n",
       "      quickchartButtonEl.style.display =\n",
       "        google.colab.kernel.accessAllowed ? 'block' : 'none';\n",
       "    })();\n",
       "  </script>\n",
       "</div>\n",
       "\n",
       "    </div>\n",
       "  </div>\n"
      ],
      "text/plain": [
       "                                               title  \\\n",
       "0  Due to the recent outbreak for the Coronavirus...   \n",
       "1                                                NaN   \n",
       "2                                                NaN   \n",
       "3                                                NaN   \n",
       "4                                                NaN   \n",
       "\n",
       "                                                text  \\\n",
       "0  You just need to add water, and the drugs and ...   \n",
       "1  Hydroxychloroquine has been shown to have a 10...   \n",
       "2  Fact: Hydroxychloroquine has been shown to hav...   \n",
       "3  The Corona virus is a man made virus created i...   \n",
       "4  Doesn’t @BillGates finance research at the Wuh...   \n",
       "\n",
       "                      source label  \n",
       "0  coronavirusmedicalkit.com  Fake  \n",
       "1               RudyGiuliani  Fake  \n",
       "2                CharlieKirk  Fake  \n",
       "3    JoanneWrightForCongress  Fake  \n",
       "4    JoanneWrightForCongress  Fake  "
      ]
     },
     "execution_count": 3,
     "metadata": {},
     "output_type": "execute_result"
    }
   ],
   "source": [
    "df.head()"
   ]
  },
  {
   "cell_type": "code",
   "execution_count": 5,
   "metadata": {
    "id": "vfqn86etAO_-"
   },
   "outputs": [
    {
     "data": {
      "text/plain": [
       "(1164, 4)"
      ]
     },
     "execution_count": 5,
     "metadata": {},
     "output_type": "execute_result"
    }
   ],
   "source": [
    "df.shape"
   ]
  },
  {
   "cell_type": "code",
   "execution_count": 6,
   "metadata": {},
   "outputs": [
    {
     "data": {
      "text/plain": [
       "label\n",
       "TRUE    584\n",
       "Fake    345\n",
       "fake    230\n",
       "Name: count, dtype: int64"
      ]
     },
     "execution_count": 6,
     "metadata": {},
     "output_type": "execute_result"
    }
   ],
   "source": [
    "df['label'].value_counts()"
   ]
  },
  {
   "cell_type": "code",
   "execution_count": 7,
   "metadata": {},
   "outputs": [
    {
     "data": {
      "text/html": [
       "<div>\n",
       "<style scoped>\n",
       "    .dataframe tbody tr th:only-of-type {\n",
       "        vertical-align: middle;\n",
       "    }\n",
       "\n",
       "    .dataframe tbody tr th {\n",
       "        vertical-align: top;\n",
       "    }\n",
       "\n",
       "    .dataframe thead th {\n",
       "        text-align: right;\n",
       "    }\n",
       "</style>\n",
       "<table border=\"1\" class=\"dataframe\">\n",
       "  <thead>\n",
       "    <tr style=\"text-align: right;\">\n",
       "      <th></th>\n",
       "      <th>title</th>\n",
       "      <th>text</th>\n",
       "      <th>source</th>\n",
       "      <th>label</th>\n",
       "    </tr>\n",
       "  </thead>\n",
       "  <tbody>\n",
       "    <tr>\n",
       "      <th>5</th>\n",
       "      <td>CORONA UNMASKED: Chinese Intelligence Officer ...</td>\n",
       "      <td>NaN</td>\n",
       "      <td>NaN</td>\n",
       "      <td>NaN</td>\n",
       "    </tr>\n",
       "    <tr>\n",
       "      <th>6</th>\n",
       "      <td>NaN</td>\n",
       "      <td>Urgent: Health Bulletin to the Public. Ministr...</td>\n",
       "      <td>Ministry of Health</td>\n",
       "      <td>Fake</td>\n",
       "    </tr>\n",
       "    <tr>\n",
       "      <th>7</th>\n",
       "      <td>NaN</td>\n",
       "      <td>Pls tell ur families, relatives and friendsMOH...</td>\n",
       "      <td>NWLLAB</td>\n",
       "      <td>Fake</td>\n",
       "    </tr>\n",
       "    <tr>\n",
       "      <th>8</th>\n",
       "      <td>NaN</td>\n",
       "      <td>SERIOUS EXCELLENT ADVICE by Japanese doctors t...</td>\n",
       "      <td>Japanese doctors treating COVID-19 cases</td>\n",
       "      <td>Fake</td>\n",
       "    </tr>\n",
       "    <tr>\n",
       "      <th>9</th>\n",
       "      <td>Basic protective measures against the new coro...</td>\n",
       "      <td>Stay aware of the latest information on the CO...</td>\n",
       "      <td>https://www.who.int/emergencies/diseases/novel...</td>\n",
       "      <td>TRUE</td>\n",
       "    </tr>\n",
       "    <tr>\n",
       "      <th>10</th>\n",
       "      <td>NaN</td>\n",
       "      <td>The new Coronavirus may not show signs of infe...</td>\n",
       "      <td>Taiwan Experts</td>\n",
       "      <td>Fake</td>\n",
       "    </tr>\n",
       "    <tr>\n",
       "      <th>11</th>\n",
       "      <td>NaN</td>\n",
       "      <td>A vaccine meant for cattle can be used to figh...</td>\n",
       "      <td>facebook</td>\n",
       "      <td>Fake</td>\n",
       "    </tr>\n",
       "    <tr>\n",
       "      <th>12</th>\n",
       "      <td>NaN</td>\n",
       "      <td>Using a hair dryer to breathe in hot air can c...</td>\n",
       "      <td>Youtube</td>\n",
       "      <td>Fake</td>\n",
       "    </tr>\n",
       "    <tr>\n",
       "      <th>13</th>\n",
       "      <td>NaN</td>\n",
       "      <td>Corona virus before it reaches the lungs it re...</td>\n",
       "      <td>twitter</td>\n",
       "      <td>Fake</td>\n",
       "    </tr>\n",
       "    <tr>\n",
       "      <th>14</th>\n",
       "      <td>Exposing yourself to the sun or to temperature...</td>\n",
       "      <td>You can catch COVID-19, no matter how sunny or...</td>\n",
       "      <td>https://www.who.int/emergencies/diseases/novel...</td>\n",
       "      <td>TRUE</td>\n",
       "    </tr>\n",
       "    <tr>\n",
       "      <th>15</th>\n",
       "      <td>You can recover from the coronavirus disease (...</td>\n",
       "      <td>Most of the people who catch COVID-19 can reco...</td>\n",
       "      <td>https://www.who.int/emergencies/diseases/novel...</td>\n",
       "      <td>NaN</td>\n",
       "    </tr>\n",
       "  </tbody>\n",
       "</table>\n",
       "</div>"
      ],
      "text/plain": [
       "                                                title  \\\n",
       "5   CORONA UNMASKED: Chinese Intelligence Officer ...   \n",
       "6                                                 NaN   \n",
       "7                                                 NaN   \n",
       "8                                                 NaN   \n",
       "9   Basic protective measures against the new coro...   \n",
       "10                                                NaN   \n",
       "11                                                NaN   \n",
       "12                                                NaN   \n",
       "13                                                NaN   \n",
       "14  Exposing yourself to the sun or to temperature...   \n",
       "15  You can recover from the coronavirus disease (...   \n",
       "\n",
       "                                                 text  \\\n",
       "5                                                 NaN   \n",
       "6   Urgent: Health Bulletin to the Public. Ministr...   \n",
       "7   Pls tell ur families, relatives and friendsMOH...   \n",
       "8   SERIOUS EXCELLENT ADVICE by Japanese doctors t...   \n",
       "9   Stay aware of the latest information on the CO...   \n",
       "10  The new Coronavirus may not show signs of infe...   \n",
       "11  A vaccine meant for cattle can be used to figh...   \n",
       "12  Using a hair dryer to breathe in hot air can c...   \n",
       "13  Corona virus before it reaches the lungs it re...   \n",
       "14  You can catch COVID-19, no matter how sunny or...   \n",
       "15  Most of the people who catch COVID-19 can reco...   \n",
       "\n",
       "                                               source label  \n",
       "5                                                 NaN   NaN  \n",
       "6                                  Ministry of Health  Fake  \n",
       "7                                              NWLLAB  Fake  \n",
       "8            Japanese doctors treating COVID-19 cases  Fake  \n",
       "9   https://www.who.int/emergencies/diseases/novel...  TRUE  \n",
       "10                                     Taiwan Experts  Fake  \n",
       "11                                           facebook  Fake  \n",
       "12                                            Youtube  Fake  \n",
       "13                                            twitter  Fake  \n",
       "14  https://www.who.int/emergencies/diseases/novel...  TRUE  \n",
       "15  https://www.who.int/emergencies/diseases/novel...   NaN  "
      ]
     },
     "execution_count": 7,
     "metadata": {},
     "output_type": "execute_result"
    }
   ],
   "source": [
    "df.loc[5:15]"
   ]
  },
  {
   "cell_type": "code",
   "execution_count": 8,
   "metadata": {},
   "outputs": [
    {
     "data": {
      "text/plain": [
       "title     82\n",
       "text      10\n",
       "source    20\n",
       "label      5\n",
       "dtype: int64"
      ]
     },
     "execution_count": 8,
     "metadata": {},
     "output_type": "execute_result"
    }
   ],
   "source": [
    "df.isna().sum()"
   ]
  },
  {
   "cell_type": "code",
   "execution_count": 11,
   "metadata": {},
   "outputs": [],
   "source": [
    "df.loc[df['label'] == 'Fake', ['label']] = 'FAKE'\n",
    "\n",
    "df.loc[df['label'] == 'fake', ['label']] = 'FAKE'\n",
    "\n",
    "df.loc[df['source'] == 'facebook', ['source']] = 'Facebook'\n",
    "\n",
    "df.text.fillna(df.title, inplace=True)\n",
    "\n",
    "df.loc[5]['label'] = 'FAKE'\n",
    "\n",
    "df.loc[15]['label'] = 'TRUE'\n",
    "\n",
    "df.loc[43]['label'] = 'FAKE'\n",
    "\n",
    "df.loc[131]['label'] = 'TRUE'\n",
    "\n",
    "df.loc[242]['label'] = 'FAKE'\n",
    "\n",
    "#df = df.sample(frac=1).reset_index(drop=True)\n",
    "\n",
    "df.title.fillna('missing', inplace=True)\n",
    "\n",
    "df.source.fillna('missing', inplace=True)\n",
    "\n",
    "df['title_text'] = df['title'] + ' ' + df['text']"
   ]
  },
  {
   "cell_type": "code",
   "execution_count": 12,
   "metadata": {},
   "outputs": [
    {
     "data": {
      "text/plain": [
       "title         0\n",
       "text          0\n",
       "source        0\n",
       "label         0\n",
       "title_text    0\n",
       "dtype: int64"
      ]
     },
     "execution_count": 12,
     "metadata": {},
     "output_type": "execute_result"
    }
   ],
   "source": [
    "df.isna().sum()"
   ]
  },
  {
   "cell_type": "code",
   "execution_count": 13,
   "metadata": {},
   "outputs": [
    {
     "data": {
      "text/plain": [
       "label\n",
       "TRUE    586\n",
       "FAKE    578\n",
       "Name: count, dtype: int64"
      ]
     },
     "execution_count": 13,
     "metadata": {},
     "output_type": "execute_result"
    }
   ],
   "source": [
    "df['label'].value_counts()"
   ]
  },
  {
   "cell_type": "code",
   "execution_count": 14,
   "metadata": {},
   "outputs": [
    {
     "data": {
      "text/html": [
       "<div>\n",
       "<style scoped>\n",
       "    .dataframe tbody tr th:only-of-type {\n",
       "        vertical-align: middle;\n",
       "    }\n",
       "\n",
       "    .dataframe tbody tr th {\n",
       "        vertical-align: top;\n",
       "    }\n",
       "\n",
       "    .dataframe thead th {\n",
       "        text-align: right;\n",
       "    }\n",
       "</style>\n",
       "<table border=\"1\" class=\"dataframe\">\n",
       "  <thead>\n",
       "    <tr style=\"text-align: right;\">\n",
       "      <th></th>\n",
       "      <th>title</th>\n",
       "      <th>text</th>\n",
       "      <th>source</th>\n",
       "      <th>label</th>\n",
       "      <th>title_text</th>\n",
       "    </tr>\n",
       "  </thead>\n",
       "  <tbody>\n",
       "    <tr>\n",
       "      <th>0</th>\n",
       "      <td>Due to the recent outbreak for the Coronavirus...</td>\n",
       "      <td>You just need to add water, and the drugs and ...</td>\n",
       "      <td>coronavirusmedicalkit.com</td>\n",
       "      <td>FAKE</td>\n",
       "      <td>Due to the recent outbreak for the Coronavirus...</td>\n",
       "    </tr>\n",
       "    <tr>\n",
       "      <th>1</th>\n",
       "      <td>missing</td>\n",
       "      <td>Hydroxychloroquine has been shown to have a 10...</td>\n",
       "      <td>RudyGiuliani</td>\n",
       "      <td>FAKE</td>\n",
       "      <td>missing Hydroxychloroquine has been shown to h...</td>\n",
       "    </tr>\n",
       "    <tr>\n",
       "      <th>2</th>\n",
       "      <td>missing</td>\n",
       "      <td>Fact: Hydroxychloroquine has been shown to hav...</td>\n",
       "      <td>CharlieKirk</td>\n",
       "      <td>FAKE</td>\n",
       "      <td>missing Fact: Hydroxychloroquine has been show...</td>\n",
       "    </tr>\n",
       "    <tr>\n",
       "      <th>3</th>\n",
       "      <td>missing</td>\n",
       "      <td>The Corona virus is a man made virus created i...</td>\n",
       "      <td>JoanneWrightForCongress</td>\n",
       "      <td>FAKE</td>\n",
       "      <td>missing The Corona virus is a man made virus c...</td>\n",
       "    </tr>\n",
       "    <tr>\n",
       "      <th>4</th>\n",
       "      <td>missing</td>\n",
       "      <td>Doesn’t @BillGates finance research at the Wuh...</td>\n",
       "      <td>JoanneWrightForCongress</td>\n",
       "      <td>FAKE</td>\n",
       "      <td>missing Doesn’t @BillGates finance research at...</td>\n",
       "    </tr>\n",
       "  </tbody>\n",
       "</table>\n",
       "</div>"
      ],
      "text/plain": [
       "                                               title  \\\n",
       "0  Due to the recent outbreak for the Coronavirus...   \n",
       "1                                            missing   \n",
       "2                                            missing   \n",
       "3                                            missing   \n",
       "4                                            missing   \n",
       "\n",
       "                                                text  \\\n",
       "0  You just need to add water, and the drugs and ...   \n",
       "1  Hydroxychloroquine has been shown to have a 10...   \n",
       "2  Fact: Hydroxychloroquine has been shown to hav...   \n",
       "3  The Corona virus is a man made virus created i...   \n",
       "4  Doesn’t @BillGates finance research at the Wuh...   \n",
       "\n",
       "                      source label  \\\n",
       "0  coronavirusmedicalkit.com  FAKE   \n",
       "1               RudyGiuliani  FAKE   \n",
       "2                CharlieKirk  FAKE   \n",
       "3    JoanneWrightForCongress  FAKE   \n",
       "4    JoanneWrightForCongress  FAKE   \n",
       "\n",
       "                                          title_text  \n",
       "0  Due to the recent outbreak for the Coronavirus...  \n",
       "1  missing Hydroxychloroquine has been shown to h...  \n",
       "2  missing Fact: Hydroxychloroquine has been show...  \n",
       "3  missing The Corona virus is a man made virus c...  \n",
       "4  missing Doesn’t @BillGates finance research at...  "
      ]
     },
     "execution_count": 14,
     "metadata": {},
     "output_type": "execute_result"
    }
   ],
   "source": [
    "df.head()"
   ]
  },
  {
   "cell_type": "code",
   "execution_count": 15,
   "metadata": {},
   "outputs": [
    {
     "data": {
      "text/plain": [
       "(1164, 5)"
      ]
     },
     "execution_count": 15,
     "metadata": {},
     "output_type": "execute_result"
    }
   ],
   "source": [
    "df.shape"
   ]
  },
  {
   "cell_type": "markdown",
   "metadata": {},
   "source": [
    "## Text pre-processing "
   ]
  },
  {
   "cell_type": "code",
   "execution_count": 16,
   "metadata": {},
   "outputs": [
    {
     "data": {
      "text/plain": [
       "'missing The Corona virus is a man made virus created in a Wuhan laboratory. Ask @BillGates who financed it.'"
      ]
     },
     "execution_count": 16,
     "metadata": {},
     "output_type": "execute_result"
    }
   ],
   "source": [
    "df['title_text'][3]"
   ]
  },
  {
   "cell_type": "code",
   "execution_count": 17,
   "metadata": {},
   "outputs": [
    {
     "data": {
      "text/plain": [
       "'missing the corona virus is a man made virus created in a wuhan laboratory ask billgates who financed it'"
      ]
     },
     "execution_count": 17,
     "metadata": {},
     "output_type": "execute_result"
    }
   ],
   "source": [
    "def preprocessor(text):\n",
    "\n",
    "    text = re.sub('<[^>]*>', '', text)\n",
    "\n",
    "    text = re.sub(r'[^\\w\\s]','', text)\n",
    "\n",
    "    text = re.sub(r'[\\n]', '', text)\n",
    "\n",
    "    text = text.lower()\n",
    "\n",
    "    return text\n",
    "\n",
    "    \n",
    "\n",
    "df['title_text'] = df['title_text'].apply(preprocessor)\n",
    "\n",
    "df['title_text'][3]"
   ]
  },
  {
   "cell_type": "code",
   "execution_count": 19,
   "metadata": {},
   "outputs": [],
   "source": [
    "porter = PorterStemmer()\n",
    "def tokenizer_porter(text):\n",
    "    return [porter.stem(word) for word in text.split()]"
   ]
  },
  {
   "cell_type": "code",
   "execution_count": 23,
   "metadata": {},
   "outputs": [],
   "source": [
    "tfidf = TfidfVectorizer(strip_accents=None,\n",
    "\n",
    "                        lowercase=False,\n",
    "\n",
    "                        preprocessor=None,\n",
    "\n",
    "                        tokenizer=tokenizer_porter,\n",
    "\n",
    "                        use_idf=True,\n",
    "\n",
    "                        norm='l2',\n",
    "\n",
    "                        smooth_idf=True)\n",
    "\n",
    "X = tfidf.fit_transform(df['title_text'])\n",
    "\n",
    "y = df.label.values"
   ]
  },
  {
   "cell_type": "code",
   "execution_count": 22,
   "metadata": {},
   "outputs": [
    {
     "data": {
      "text/plain": [
       "(1164, 27020)"
      ]
     },
     "execution_count": 22,
     "metadata": {},
     "output_type": "execute_result"
    }
   ],
   "source": [
    "X.shape"
   ]
  },
  {
   "cell_type": "code",
   "execution_count": 24,
   "metadata": {},
   "outputs": [],
   "source": [
    "X_train, X_test, y_train, y_test = train_test_split(X, y, random_state=0, test_size=0.3, shuffle=False)"
   ]
  },
  {
   "cell_type": "code",
   "execution_count": 25,
   "metadata": {},
   "outputs": [],
   "source": [
    "clf = LogisticRegressionCV(cv=5, scoring='accuracy', random_state=0, n_jobs=-1, \\\n",
    "\n",
    "                           verbose=0, max_iter=300)\n",
    "\n",
    "clf.fit(X_train, y_train)\n",
    "\n",
    " \n",
    "\n",
    "fake_news_model = open('fake_news_model.sav', 'wb')\n",
    "\n",
    "pickle.dump(clf, fake_news_model)\n",
    "\n",
    "fake_news_model.close()"
   ]
  },
  {
   "cell_type": "markdown",
   "metadata": {},
   "source": [
    "## Model Evaluation"
   ]
  },
  {
   "cell_type": "code",
   "execution_count": 26,
   "metadata": {},
   "outputs": [
    {
     "data": {
      "text/plain": [
       "0.9257142857142857"
      ]
     },
     "execution_count": 26,
     "metadata": {},
     "output_type": "execute_result"
    }
   ],
   "source": [
    "filename = 'fake_news_model.sav'\n",
    "saved_clf = pickle.load(open(filename, 'rb'))\n",
    "saved_clf.score(X_test, y_test)"
   ]
  },
  {
   "cell_type": "code",
   "execution_count": 27,
   "metadata": {},
   "outputs": [
    {
     "name": "stdout",
     "output_type": "stream",
     "text": [
      "---Test Set Results---\n",
      "              precision    recall  f1-score   support\n",
      "\n",
      "        FAKE       0.91      0.89      0.90       132\n",
      "        TRUE       0.93      0.95      0.94       218\n",
      "\n",
      "    accuracy                           0.93       350\n",
      "   macro avg       0.92      0.92      0.92       350\n",
      "weighted avg       0.93      0.93      0.93       350\n",
      "\n"
     ]
    }
   ],
   "source": [
    "from sklearn.metrics import classification_report, accuracy_score\n",
    "\n",
    "y_pred = clf.predict(X_test)\n",
    "\n",
    "print(\"---Test Set Results---\")\n",
    "\n",
    "print(classification_report(y_test, y_pred))"
   ]
  },
  {
   "cell_type": "code",
   "execution_count": 28,
   "metadata": {},
   "outputs": [
    {
     "data": {
      "text/plain": [
       "array(['FAKE'], dtype=object)"
      ]
     },
     "execution_count": 28,
     "metadata": {},
     "output_type": "execute_result"
    }
   ],
   "source": [
    "clf.predict(X_test[59])"
   ]
  },
  {
   "cell_type": "code",
   "execution_count": null,
   "metadata": {},
   "outputs": [],
   "source": [
    "test = \"Corona virus before it reaches the lungs\"\n",
    "in"
   ]
  }
 ],
 "metadata": {
  "colab": {
   "provenance": []
  },
  "kernelspec": {
   "display_name": "Python 3 (ipykernel)",
   "language": "python",
   "name": "python3"
  },
  "language_info": {
   "codemirror_mode": {
    "name": "ipython",
    "version": 3
   },
   "file_extension": ".py",
   "mimetype": "text/x-python",
   "name": "python",
   "nbconvert_exporter": "python",
   "pygments_lexer": "ipython3",
   "version": "3.11.5"
  }
 },
 "nbformat": 4,
 "nbformat_minor": 1
}
